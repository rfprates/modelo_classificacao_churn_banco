{
 "cells": [
  {
   "cell_type": "markdown",
   "metadata": {},
   "source": [
    "# Case - Definindo um modelo de machine learning para prever casos de churn em uma instuição financeira"
   ]
  },
  {
   "cell_type": "markdown",
   "metadata": {},
   "source": [
    "## Introdução"
   ]
  },
  {
   "cell_type": "markdown",
   "metadata": {},
   "source": [
    "Um gerente de um banco não está satisfeito com o fato de cada vez mais clientes abandonarem os serviços de cartão de crédito. Visando entender o que pode estar acontecendo e tentar prever quando um cliente se tornará churn, a instituição financeira disponibilizou um dataset com dados de todos seus clientes."
   ]
  },
  {
   "cell_type": "markdown",
   "metadata": {},
   "source": [
    "## Objetivo do projeto"
   ]
  },
  {
   "cell_type": "markdown",
   "metadata": {},
   "source": [
    "Utilizando o dataset disponível, o objetivo do presente projeto é definir um modelo de machine learning para prever os casos de churn e identificar estratégias para evitar que isso com mais frequência."
   ]
  },
  {
   "cell_type": "markdown",
   "metadata": {},
   "source": [
    "## Sobre os dados"
   ]
  },
  {
   "cell_type": "markdown",
   "metadata": {},
   "source": [
    "O dataset disponibilizado consiste em dados de 10.000 clientes, mencionando idade, salário, estado civil, limite do cartão de crédito, categoria do cartão de crédito, etc. Abaixo segue o descritivo de cada uma das colunas presentes na tabela de dados.\n",
    "\n",
    "- CLIENTNUM: Identificador exclusivo do cliente titular da conta;\n",
    "- Attrition_Flag: Variável de evento interno (atividade do cliente), nos diz se a conta do cliente foi encerrada ou não;\n",
    "- Customer_Age: Idade do cliente;\n",
    "- Gender: Gênero do cliente (masculino ou feminino);\n",
    "- Dependent_count: Número de dependentes;\n",
    "- Education_Level: Nível educacional;\n",
    "- Marital_Status: Casado, Solteiro, Divorciado, Desconhecido;\n",
    "- Income_Category: Renda anual;\n",
    "- Card_Category: Tipo de Cartão (Azul, Prata, Ouro, Platina);\n",
    "- Months_on_book: Período de relacionamento com banco;\n",
    "- Total_Relationship_Count: Total de produtos detidos pelo cliente;\n",
    "- Months_Inactive_12_mon: Nº de meses inativos nos últimos 12 meses;\n",
    "- Contacts_Count_12_mon: Nº de contatos nos últimos 12 meses;\n",
    "- Credit_Limit: Limite de crédito no cartão de crédito;\n",
    "- Total_Revolving_Bal: Saldo Rotativo Total no Cartão de Crédito;\n",
    "- Avg_Open_To_Buy: Linha de crédito aberta para compra (média dos últimos 12 meses);\n",
    "- Total_Amt_Chng_Q4_Q1: Alteração no valor da transação (quarto trimestre em relação ao primeiro trimestre);\n",
    "- Total_Trans_Amt: Valor total da transação (últimos 12 meses);\n",
    "- Total_Trans_Ct: Contagem total de transações (últimos 12 meses);\n",
    "- Total_Ct_Chng_Q4_Q1: Mudança na contagem de transações (quarto trimestre em relação ao primeiro trimestre);\n",
    "- Avg_Utilization_Ratio: Taxa média de utilização do cartão."
   ]
  },
  {
   "cell_type": "code",
   "execution_count": null,
   "metadata": {},
   "outputs": [],
   "source": []
  }
 ],
 "metadata": {
  "language_info": {
   "name": "python"
  }
 },
 "nbformat": 4,
 "nbformat_minor": 2
}
